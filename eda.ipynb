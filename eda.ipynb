{
 "cells": [
  {
   "cell_type": "code",
   "execution_count": 1,
   "id": "4016889c",
   "metadata": {},
   "outputs": [
    {
     "data": {
      "text/html": [
       "<div>\n",
       "<style scoped>\n",
       "    .dataframe tbody tr th:only-of-type {\n",
       "        vertical-align: middle;\n",
       "    }\n",
       "\n",
       "    .dataframe tbody tr th {\n",
       "        vertical-align: top;\n",
       "    }\n",
       "\n",
       "    .dataframe thead th {\n",
       "        text-align: right;\n",
       "    }\n",
       "</style>\n",
       "<table border=\"1\" class=\"dataframe\">\n",
       "  <thead>\n",
       "    <tr style=\"text-align: right;\">\n",
       "      <th></th>\n",
       "      <th>Entry</th>\n",
       "      <th>cysteineid</th>\n",
       "      <th>resid</th>\n",
       "      <th>ligandable</th>\n",
       "      <th>backus_cravatt_ligandable</th>\n",
       "      <th>cao_backus_ligandable</th>\n",
       "      <th>kuljanin_gygi_ligandable</th>\n",
       "      <th>vinogradova_cravatt_ligandable</th>\n",
       "      <th>yan_backus_ligandable</th>\n",
       "      <th>yang_wang_ligandable</th>\n",
       "      <th>Compound</th>\n",
       "      <th>Ratio</th>\n",
       "      <th>Activity</th>\n",
       "      <th>SMILES</th>\n",
       "      <th>Sequence</th>\n",
       "    </tr>\n",
       "  </thead>\n",
       "  <tbody>\n",
       "    <tr>\n",
       "      <th>0</th>\n",
       "      <td>P23396</td>\n",
       "      <td>P23396_C97</td>\n",
       "      <td>97</td>\n",
       "      <td>yes</td>\n",
       "      <td>yes</td>\n",
       "      <td>yes</td>\n",
       "      <td>NaN</td>\n",
       "      <td>yes</td>\n",
       "      <td>NaN</td>\n",
       "      <td>NaN</td>\n",
       "      <td>ACRYL_1</td>\n",
       "      <td>2.730000</td>\n",
       "      <td>0</td>\n",
       "      <td>C=CC(=O)N(c1ccccc1)c1ccc(Br)cc1</td>\n",
       "      <td>MAVQISKKRKFVADGIFKAELNEFLTRELAEDGYSGVEVRVTPTRT...</td>\n",
       "    </tr>\n",
       "    <tr>\n",
       "      <th>1</th>\n",
       "      <td>P68366</td>\n",
       "      <td>P68366_C295</td>\n",
       "      <td>295</td>\n",
       "      <td>yes</td>\n",
       "      <td>yes</td>\n",
       "      <td>NaN</td>\n",
       "      <td>NaN</td>\n",
       "      <td>NaN</td>\n",
       "      <td>NaN</td>\n",
       "      <td>NaN</td>\n",
       "      <td>ACRYL_1</td>\n",
       "      <td>2.500000</td>\n",
       "      <td>0</td>\n",
       "      <td>C=CC(=O)N(c1ccccc1)c1ccc(Br)cc1</td>\n",
       "      <td>MRECISVHVGQAGVQMGNACWELYCLEHGIQPDGQMPSDKTIGGGD...</td>\n",
       "    </tr>\n",
       "    <tr>\n",
       "      <th>2</th>\n",
       "      <td>P68366</td>\n",
       "      <td>P68366_C347</td>\n",
       "      <td>347</td>\n",
       "      <td>yes</td>\n",
       "      <td>yes</td>\n",
       "      <td>NaN</td>\n",
       "      <td>NaN</td>\n",
       "      <td>yes</td>\n",
       "      <td>NaN</td>\n",
       "      <td>NaN</td>\n",
       "      <td>ACRYL_1</td>\n",
       "      <td>3.100000</td>\n",
       "      <td>0</td>\n",
       "      <td>C=CC(=O)N(c1ccccc1)c1ccc(Br)cc1</td>\n",
       "      <td>MRECISVHVGQAGVQMGNACWELYCLEHGIQPDGQMPSDKTIGGGD...</td>\n",
       "    </tr>\n",
       "    <tr>\n",
       "      <th>3</th>\n",
       "      <td>Q71U36</td>\n",
       "      <td>Q71U36_C347</td>\n",
       "      <td>347</td>\n",
       "      <td>yes</td>\n",
       "      <td>yes</td>\n",
       "      <td>yes</td>\n",
       "      <td>NaN</td>\n",
       "      <td>NaN</td>\n",
       "      <td>NaN</td>\n",
       "      <td>NaN</td>\n",
       "      <td>ACRYL_1</td>\n",
       "      <td>2.330000</td>\n",
       "      <td>0</td>\n",
       "      <td>C=CC(=O)N(c1ccccc1)c1ccc(Br)cc1</td>\n",
       "      <td>MRECISIHVGQAGVQIGNACWELYCLEHGIQPDGQMPSDKTIGGGD...</td>\n",
       "    </tr>\n",
       "    <tr>\n",
       "      <th>4</th>\n",
       "      <td>Q71U36</td>\n",
       "      <td>Q71U36_C376</td>\n",
       "      <td>376</td>\n",
       "      <td>yes</td>\n",
       "      <td>yes</td>\n",
       "      <td>NaN</td>\n",
       "      <td>NaN</td>\n",
       "      <td>NaN</td>\n",
       "      <td>NaN</td>\n",
       "      <td>NaN</td>\n",
       "      <td>ACRYL_1</td>\n",
       "      <td>4.560000</td>\n",
       "      <td>1</td>\n",
       "      <td>C=CC(=O)N(c1ccccc1)c1ccc(Br)cc1</td>\n",
       "      <td>MRECISIHVGQAGVQIGNACWELYCLEHGIQPDGQMPSDKTIGGGD...</td>\n",
       "    </tr>\n",
       "    <tr>\n",
       "      <th>...</th>\n",
       "      <td>...</td>\n",
       "      <td>...</td>\n",
       "      <td>...</td>\n",
       "      <td>...</td>\n",
       "      <td>...</td>\n",
       "      <td>...</td>\n",
       "      <td>...</td>\n",
       "      <td>...</td>\n",
       "      <td>...</td>\n",
       "      <td>...</td>\n",
       "      <td>...</td>\n",
       "      <td>...</td>\n",
       "      <td>...</td>\n",
       "      <td>...</td>\n",
       "      <td>...</td>\n",
       "    </tr>\n",
       "    <tr>\n",
       "      <th>12266799</th>\n",
       "      <td>Q9H074</td>\n",
       "      <td>Q9H074_C470</td>\n",
       "      <td>470</td>\n",
       "      <td>yes</td>\n",
       "      <td>NaN</td>\n",
       "      <td>yes</td>\n",
       "      <td>NaN</td>\n",
       "      <td>NaN</td>\n",
       "      <td>NaN</td>\n",
       "      <td>NaN</td>\n",
       "      <td>OTHER_9</td>\n",
       "      <td>1.416106</td>\n",
       "      <td>0</td>\n",
       "      <td>CC(=O)Nc1cccc(S(=O)(=O)F)c1</td>\n",
       "      <td>MSDGFDRAPGAGRGRSRGLGRGGGGPEGGGFPNGAGPAERARHQPP...</td>\n",
       "    </tr>\n",
       "    <tr>\n",
       "      <th>12266800</th>\n",
       "      <td>Q16822</td>\n",
       "      <td>Q16822_C559</td>\n",
       "      <td>559</td>\n",
       "      <td>yes</td>\n",
       "      <td>NaN</td>\n",
       "      <td>yes</td>\n",
       "      <td>NaN</td>\n",
       "      <td>NaN</td>\n",
       "      <td>NaN</td>\n",
       "      <td>NaN</td>\n",
       "      <td>OTHER_9</td>\n",
       "      <td>0.720643</td>\n",
       "      <td>0</td>\n",
       "      <td>CC(=O)Nc1cccc(S(=O)(=O)F)c1</td>\n",
       "      <td>MAALYRPGLRLNWHGLSPLGWPSCRSIQTLRVLSGDLGQLPTGIRD...</td>\n",
       "    </tr>\n",
       "    <tr>\n",
       "      <th>12266801</th>\n",
       "      <td>P33176</td>\n",
       "      <td>P33176_C65</td>\n",
       "      <td>65</td>\n",
       "      <td>yes</td>\n",
       "      <td>NaN</td>\n",
       "      <td>yes</td>\n",
       "      <td>yes</td>\n",
       "      <td>NaN</td>\n",
       "      <td>NaN</td>\n",
       "      <td>NaN</td>\n",
       "      <td>OTHER_9</td>\n",
       "      <td>1.196931</td>\n",
       "      <td>0</td>\n",
       "      <td>CC(=O)Nc1cccc(S(=O)(=O)F)c1</td>\n",
       "      <td>MADLAECNIKVMCRFRPLNESEVNRGDKYIAKFQGEDTVVIASKPY...</td>\n",
       "    </tr>\n",
       "    <tr>\n",
       "      <th>12266802</th>\n",
       "      <td>Q9P032</td>\n",
       "      <td>Q9P032_C87</td>\n",
       "      <td>87</td>\n",
       "      <td>yes</td>\n",
       "      <td>NaN</td>\n",
       "      <td>yes</td>\n",
       "      <td>NaN</td>\n",
       "      <td>NaN</td>\n",
       "      <td>NaN</td>\n",
       "      <td>NaN</td>\n",
       "      <td>OTHER_9</td>\n",
       "      <td>0.558747</td>\n",
       "      <td>0</td>\n",
       "      <td>CC(=O)Nc1cccc(S(=O)(=O)F)c1</td>\n",
       "      <td>MGALVIRGIRNFNLENRAEREISKMKPSVAPRHPSTNSLLREQISL...</td>\n",
       "    </tr>\n",
       "    <tr>\n",
       "      <th>12266803</th>\n",
       "      <td>P62877</td>\n",
       "      <td>P62877_C94</td>\n",
       "      <td>94</td>\n",
       "      <td>yes</td>\n",
       "      <td>NaN</td>\n",
       "      <td>yes</td>\n",
       "      <td>NaN</td>\n",
       "      <td>NaN</td>\n",
       "      <td>NaN</td>\n",
       "      <td>NaN</td>\n",
       "      <td>OTHER_9</td>\n",
       "      <td>5.323070</td>\n",
       "      <td>1</td>\n",
       "      <td>CC(=O)Nc1cccc(S(=O)(=O)F)c1</td>\n",
       "      <td>MAAAMDVDTPSGTNSGAGKKRFEVKKWNAVALWAWDIVVDNCAICR...</td>\n",
       "    </tr>\n",
       "  </tbody>\n",
       "</table>\n",
       "<p>12266804 rows × 15 columns</p>\n",
       "</div>"
      ],
      "text/plain": [
       "           Entry   cysteineid  resid ligandable backus_cravatt_ligandable  \\\n",
       "0         P23396   P23396_C97     97        yes                       yes   \n",
       "1         P68366  P68366_C295    295        yes                       yes   \n",
       "2         P68366  P68366_C347    347        yes                       yes   \n",
       "3         Q71U36  Q71U36_C347    347        yes                       yes   \n",
       "4         Q71U36  Q71U36_C376    376        yes                       yes   \n",
       "...          ...          ...    ...        ...                       ...   \n",
       "12266799  Q9H074  Q9H074_C470    470        yes                       NaN   \n",
       "12266800  Q16822  Q16822_C559    559        yes                       NaN   \n",
       "12266801  P33176   P33176_C65     65        yes                       NaN   \n",
       "12266802  Q9P032   Q9P032_C87     87        yes                       NaN   \n",
       "12266803  P62877   P62877_C94     94        yes                       NaN   \n",
       "\n",
       "         cao_backus_ligandable kuljanin_gygi_ligandable  \\\n",
       "0                          yes                      NaN   \n",
       "1                          NaN                      NaN   \n",
       "2                          NaN                      NaN   \n",
       "3                          yes                      NaN   \n",
       "4                          NaN                      NaN   \n",
       "...                        ...                      ...   \n",
       "12266799                   yes                      NaN   \n",
       "12266800                   yes                      NaN   \n",
       "12266801                   yes                      yes   \n",
       "12266802                   yes                      NaN   \n",
       "12266803                   yes                      NaN   \n",
       "\n",
       "         vinogradova_cravatt_ligandable yan_backus_ligandable  \\\n",
       "0                                   yes                   NaN   \n",
       "1                                   NaN                   NaN   \n",
       "2                                   yes                   NaN   \n",
       "3                                   NaN                   NaN   \n",
       "4                                   NaN                   NaN   \n",
       "...                                 ...                   ...   \n",
       "12266799                            NaN                   NaN   \n",
       "12266800                            NaN                   NaN   \n",
       "12266801                            NaN                   NaN   \n",
       "12266802                            NaN                   NaN   \n",
       "12266803                            NaN                   NaN   \n",
       "\n",
       "         yang_wang_ligandable Compound     Ratio  Activity  \\\n",
       "0                         NaN  ACRYL_1  2.730000         0   \n",
       "1                         NaN  ACRYL_1  2.500000         0   \n",
       "2                         NaN  ACRYL_1  3.100000         0   \n",
       "3                         NaN  ACRYL_1  2.330000         0   \n",
       "4                         NaN  ACRYL_1  4.560000         1   \n",
       "...                       ...      ...       ...       ...   \n",
       "12266799                  NaN  OTHER_9  1.416106         0   \n",
       "12266800                  NaN  OTHER_9  0.720643         0   \n",
       "12266801                  NaN  OTHER_9  1.196931         0   \n",
       "12266802                  NaN  OTHER_9  0.558747         0   \n",
       "12266803                  NaN  OTHER_9  5.323070         1   \n",
       "\n",
       "                                   SMILES  \\\n",
       "0         C=CC(=O)N(c1ccccc1)c1ccc(Br)cc1   \n",
       "1         C=CC(=O)N(c1ccccc1)c1ccc(Br)cc1   \n",
       "2         C=CC(=O)N(c1ccccc1)c1ccc(Br)cc1   \n",
       "3         C=CC(=O)N(c1ccccc1)c1ccc(Br)cc1   \n",
       "4         C=CC(=O)N(c1ccccc1)c1ccc(Br)cc1   \n",
       "...                                   ...   \n",
       "12266799      CC(=O)Nc1cccc(S(=O)(=O)F)c1   \n",
       "12266800      CC(=O)Nc1cccc(S(=O)(=O)F)c1   \n",
       "12266801      CC(=O)Nc1cccc(S(=O)(=O)F)c1   \n",
       "12266802      CC(=O)Nc1cccc(S(=O)(=O)F)c1   \n",
       "12266803      CC(=O)Nc1cccc(S(=O)(=O)F)c1   \n",
       "\n",
       "                                                   Sequence  \n",
       "0         MAVQISKKRKFVADGIFKAELNEFLTRELAEDGYSGVEVRVTPTRT...  \n",
       "1         MRECISVHVGQAGVQMGNACWELYCLEHGIQPDGQMPSDKTIGGGD...  \n",
       "2         MRECISVHVGQAGVQMGNACWELYCLEHGIQPDGQMPSDKTIGGGD...  \n",
       "3         MRECISIHVGQAGVQIGNACWELYCLEHGIQPDGQMPSDKTIGGGD...  \n",
       "4         MRECISIHVGQAGVQIGNACWELYCLEHGIQPDGQMPSDKTIGGGD...  \n",
       "...                                                     ...  \n",
       "12266799  MSDGFDRAPGAGRGRSRGLGRGGGGPEGGGFPNGAGPAERARHQPP...  \n",
       "12266800  MAALYRPGLRLNWHGLSPLGWPSCRSIQTLRVLSGDLGQLPTGIRD...  \n",
       "12266801  MADLAECNIKVMCRFRPLNESEVNRGDKYIAKFQGEDTVVIASKPY...  \n",
       "12266802  MGALVIRGIRNFNLENRAEREISKMKPSVAPRHPSTNSLLREQISL...  \n",
       "12266803  MAAAMDVDTPSGTNSGAGKKRFEVKKWNAVALWAWDIVVDNCAICR...  \n",
       "\n",
       "[12266804 rows x 15 columns]"
      ]
     },
     "execution_count": 1,
     "metadata": {},
     "output_type": "execute_result"
    }
   ],
   "source": [
    "import pandas as pd\n",
    "\n",
    "df = pd.read_csv(\"./datasets/cysdb_complete_with_sequences.csv\")\n",
    "df.head(5)"
   ]
  },
  {
   "cell_type": "code",
   "execution_count": 1,
   "id": "a8e4a903",
   "metadata": {},
   "outputs": [
    {
     "name": "stdout",
     "output_type": "stream",
     "text": [
      "Unique SMILES: 352\n",
      "Unique Sequences: 9447\n"
     ]
    }
   ],
   "source": [
    "import polars as pl\n",
    "df = pl.read_csv(\"./datasets/cysdb_complete_with_sequences.csv\")\n",
    "unique_smiles = df.select(pl.col(\"SMILES\").n_unique()).item()\n",
    "unique_sequences = df.select(pl.col(\"Sequence\").n_unique()).item()\n",
    "\n",
    "print(f\"Unique SMILES: {unique_smiles}\")\n",
    "print(f\"Unique Sequences: {unique_sequences}\")"
   ]
  },
  {
   "cell_type": "code",
   "execution_count": 2,
   "id": "5d0c7c0b",
   "metadata": {},
   "outputs": [
    {
     "data": {
      "image/png": "[encoded data removed]",
      "text/plain": [
       "<Figure size 1200x600 with 2 Axes>"
      ]
     },
     "metadata": {},
     "output_type": "display_data"
    }
   ],
   "source": [
    "import matplotlib.pyplot as plt\n",
    "import pandas as pd\n",
    "\n",
    "df = pd.read_csv(\"./datasets/cysdb_complete_with_sequences.csv\")\n",
    "\n",
    "# Filter the dataframe for Activity == 1 and Activity == 0\n",
    "active_df = df[df['Activity'] == 1]\n",
    "inactive_df = df[df['Activity'] == 0]\n",
    "\n",
    "# Create subplots for side-by-side histograms\n",
    "fig, axes = plt.subplots(1, 2, figsize=(12, 6))\n",
    "\n",
    "# Histogram for Activity == 1\n",
    "axes[0].hist(active_df['Ratio'], bins=50, alpha=0.7, color='blue', edgecolor='black')\n",
    "axes[0].set_title('Distribution of Ratio for Activity = 1')\n",
    "axes[0].set_xlabel('Ratio')\n",
    "axes[0].set_ylabel('Frequency')\n",
    "\n",
    "# Histogram for Activity == 0\n",
    "axes[1].hist(inactive_df['Ratio'], bins=50, alpha=0.7, color='red', edgecolor='black')\n",
    "axes[1].set_title('Distribution of Ratio for Activity = 0')\n",
    "axes[1].set_xlabel('Ratio')\n",
    "axes[1].set_ylabel('Frequency')\n",
    "\n",
    "plt.tight_layout()\n",
    "plt.show()"
   ]
  },
  {
   "cell_type": "code",
   "execution_count": 3,
   "id": "96fb7f07",
   "metadata": {},
   "outputs": [
    {
     "data": {
      "application/vnd.microsoft.datawrangler.viewer.v0+json": {
       "columns": [
        {
         "name": "index",
         "rawType": "object",
         "type": "string"
        },
        {
         "name": "Ratio",
         "rawType": "float64",
         "type": "float"
        }
       ],
       "ref": "4fc7717a-f9b8-401c-9a40-f7a51a2d2a5c",
       "rows": [
        [
         "count",
         "49654.0"
        ],
        [
         "mean",
         "6.976580131690802"
        ],
        [
         "std",
         "13.178410535509506"
        ],
        [
         "min",
         "3.00012"
        ],
        [
         "25%",
         "3.54635056"
        ],
        [
         "50%",
         "4.56"
        ],
        [
         "75%",
         "7.516126960999999"
        ],
        [
         "max",
         "2450.0"
        ]
       ],
       "shape": {
        "columns": 1,
        "rows": 8
       }
      },
      "text/plain": [
       "count    49654.000000\n",
       "mean         6.976580\n",
       "std         13.178411\n",
       "min          3.000120\n",
       "25%          3.546351\n",
       "50%          4.560000\n",
       "75%          7.516127\n",
       "max       2450.000000\n",
       "Name: Ratio, dtype: float64"
      ]
     },
     "execution_count": 3,
     "metadata": {},
     "output_type": "execute_result"
    }
   ],
   "source": [
    "active_df['Ratio'].describe()"
   ]
  },
  {
   "cell_type": "code",
   "execution_count": 4,
   "id": "957d05ef",
   "metadata": {},
   "outputs": [
    {
     "data": {
      "application/vnd.microsoft.datawrangler.viewer.v0+json": {
       "columns": [
        {
         "name": "index",
         "rawType": "object",
         "type": "string"
        },
        {
         "name": "Ratio",
         "rawType": "float64",
         "type": "float"
        }
       ],
       "ref": "69274e35-4deb-4b65-ada7-59f8aec482d3",
       "rows": [
        [
         "count",
         "12217150.0"
        ],
        [
         "mean",
         "1.0407851734461284"
        ],
        [
         "std",
         "0.32518609622517053"
        ],
        [
         "min",
         "4.59e-05"
        ],
        [
         "25%",
         "0.857"
        ],
        [
         "50%",
         "1.01"
        ],
        [
         "75%",
         "1.18"
        ],
        [
         "max",
         "4.0"
        ]
       ],
       "shape": {
        "columns": 1,
        "rows": 8
       }
      },
      "text/plain": [
       "count    1.221715e+07\n",
       "mean     1.040785e+00\n",
       "std      3.251861e-01\n",
       "min      4.590000e-05\n",
       "25%      8.570000e-01\n",
       "50%      1.010000e+00\n",
       "75%      1.180000e+00\n",
       "max      4.000000e+00\n",
       "Name: Ratio, dtype: float64"
      ]
     },
     "execution_count": 4,
     "metadata": {},
     "output_type": "execute_result"
    }
   ],
   "source": [
    "inactive_df['Ratio'].describe()"
   ]
  },
  {
   "cell_type": "code",
   "execution_count": null,
   "id": "e1e92860",
   "metadata": {},
   "outputs": [],
   "source": [
    "['Entry','SMILES', 'Sequence', 'Ratio','Activity']"
   ]
  },
  {
   "cell_type": "code",
   "execution_count": 2,
   "id": "0bde3296",
   "metadata": {},
   "outputs": [
    {
     "data": {
      "text/html": [
       "<div>\n",
       "<style scoped>\n",
       "    .dataframe tbody tr th:only-of-type {\n",
       "        vertical-align: middle;\n",
       "    }\n",
       "\n",
       "    .dataframe tbody tr th {\n",
       "        vertical-align: top;\n",
       "    }\n",
       "\n",
       "    .dataframe thead th {\n",
       "        text-align: right;\n",
       "    }\n",
       "</style>\n",
       "<table border=\"1\" class=\"dataframe\">\n",
       "  <thead>\n",
       "    <tr style=\"text-align: right;\">\n",
       "      <th></th>\n",
       "      <th>Entry</th>\n",
       "      <th>Sequence</th>\n",
       "      <th>SMILES</th>\n",
       "      <th>Activity</th>\n",
       "    </tr>\n",
       "  </thead>\n",
       "  <tbody>\n",
       "    <tr>\n",
       "      <th>0</th>\n",
       "      <td>Q9NWR8</td>\n",
       "      <td>MLQRGLWPWRTRLLPTPGTWRPARPWPLPPPPQVLRVKLCGNVKYY...</td>\n",
       "      <td>C=CC(=O)NC1(c2ccccc2)CCOCC1</td>\n",
       "      <td>0</td>\n",
       "    </tr>\n",
       "    <tr>\n",
       "      <th>1</th>\n",
       "      <td>Q8NF37</td>\n",
       "      <td>MRLRGCGPRAAPASSAGASDARLLAPPGRNPFVHELRLSALQKAQV...</td>\n",
       "      <td>C=CC(=O)N1CCN(C2CC2)c2ccccc21</td>\n",
       "      <td>0</td>\n",
       "    </tr>\n",
       "    <tr>\n",
       "      <th>2</th>\n",
       "      <td>Q9HBU6</td>\n",
       "      <td>MLCGRPRSSSDNRNFLRERAGLSSAAVQTRIGNSAASRRSPAARPP...</td>\n",
       "      <td>O=C(CCl)Nc1cc(Cl)ccc1-n1cncn1</td>\n",
       "      <td>0</td>\n",
       "    </tr>\n",
       "    <tr>\n",
       "      <th>3</th>\n",
       "      <td>Q8NF37</td>\n",
       "      <td>MRLRGCGPRAAPASSAGASDARLLAPPGRNPFVHELRLSALQKAQV...</td>\n",
       "      <td>C=CC(=O)Nc1cccc(OC(F)F)c1</td>\n",
       "      <td>0</td>\n",
       "    </tr>\n",
       "    <tr>\n",
       "      <th>4</th>\n",
       "      <td>Q6ICH7</td>\n",
       "      <td>MVWAPLGPPRTDCLTLLHTPSKDSPKMSLEWLVAWSWSLDGLRDCI...</td>\n",
       "      <td>C=CC(=O)NC1CCN(C(=O)c2ccco2)CC1</td>\n",
       "      <td>0</td>\n",
       "    </tr>\n",
       "  </tbody>\n",
       "</table>\n",
       "</div>"
      ],
      "text/plain": [
       "    Entry                                           Sequence  \\\n",
       "0  Q9NWR8  MLQRGLWPWRTRLLPTPGTWRPARPWPLPPPPQVLRVKLCGNVKYY...   \n",
       "1  Q8NF37  MRLRGCGPRAAPASSAGASDARLLAPPGRNPFVHELRLSALQKAQV...   \n",
       "2  Q9HBU6  MLCGRPRSSSDNRNFLRERAGLSSAAVQTRIGNSAASRRSPAARPP...   \n",
       "3  Q8NF37  MRLRGCGPRAAPASSAGASDARLLAPPGRNPFVHELRLSALQKAQV...   \n",
       "4  Q6ICH7  MVWAPLGPPRTDCLTLLHTPSKDSPKMSLEWLVAWSWSLDGLRDCI...   \n",
       "\n",
       "                            SMILES  Activity  \n",
       "0      C=CC(=O)NC1(c2ccccc2)CCOCC1         0  \n",
       "1    C=CC(=O)N1CCN(C2CC2)c2ccccc21         0  \n",
       "2    O=C(CCl)Nc1cc(Cl)ccc1-n1cncn1         0  \n",
       "3        C=CC(=O)Nc1cccc(OC(F)F)c1         0  \n",
       "4  C=CC(=O)NC1CCN(C(=O)c2ccco2)CC1         0  "
      ]
     },
     "execution_count": 2,
     "metadata": {},
     "output_type": "execute_result"
    }
   ],
   "source": [
    "pd.read_csv(\"./datasets/sampled_negatives.csv\").head(5)"
   ]
  },
  {
   "cell_type": "code",
   "execution_count": 4,
   "id": "457c0190",
   "metadata": {},
   "outputs": [
    {
     "data": {
      "text/html": [
       "<div>\n",
       "<style scoped>\n",
       "    .dataframe tbody tr th:only-of-type {\n",
       "        vertical-align: middle;\n",
       "    }\n",
       "\n",
       "    .dataframe tbody tr th {\n",
       "        vertical-align: top;\n",
       "    }\n",
       "\n",
       "    .dataframe thead th {\n",
       "        text-align: right;\n",
       "    }\n",
       "</style>\n",
       "<table border=\"1\" class=\"dataframe\">\n",
       "  <thead>\n",
       "    <tr style=\"text-align: right;\">\n",
       "      <th></th>\n",
       "      <th>Entry</th>\n",
       "      <th>cysteineid</th>\n",
       "      <th>resid</th>\n",
       "      <th>ligandable</th>\n",
       "      <th>backus_cravatt_ligandable</th>\n",
       "      <th>cao_backus_ligandable</th>\n",
       "      <th>kuljanin_gygi_ligandable</th>\n",
       "      <th>vinogradova_cravatt_ligandable</th>\n",
       "      <th>yan_backus_ligandable</th>\n",
       "      <th>yang_wang_ligandable</th>\n",
       "      <th>Compound</th>\n",
       "      <th>Ratio</th>\n",
       "      <th>Activity</th>\n",
       "      <th>SMILES</th>\n",
       "      <th>Sequence</th>\n",
       "    </tr>\n",
       "  </thead>\n",
       "  <tbody>\n",
       "    <tr>\n",
       "      <th>0</th>\n",
       "      <td>P23396</td>\n",
       "      <td>P23396_C97</td>\n",
       "      <td>97</td>\n",
       "      <td>yes</td>\n",
       "      <td>yes</td>\n",
       "      <td>yes</td>\n",
       "      <td>NaN</td>\n",
       "      <td>yes</td>\n",
       "      <td>NaN</td>\n",
       "      <td>NaN</td>\n",
       "      <td>ACRYL_1</td>\n",
       "      <td>2.73</td>\n",
       "      <td>0</td>\n",
       "      <td>C=CC(=O)N(c1ccccc1)c1ccc(Br)cc1</td>\n",
       "      <td>MAVQISKKRKFVADGIFKAELNEFLTRELAEDGYSGVEVRVTPTRT...</td>\n",
       "    </tr>\n",
       "    <tr>\n",
       "      <th>1</th>\n",
       "      <td>P68366</td>\n",
       "      <td>P68366_C295</td>\n",
       "      <td>295</td>\n",
       "      <td>yes</td>\n",
       "      <td>yes</td>\n",
       "      <td>NaN</td>\n",
       "      <td>NaN</td>\n",
       "      <td>NaN</td>\n",
       "      <td>NaN</td>\n",
       "      <td>NaN</td>\n",
       "      <td>ACRYL_1</td>\n",
       "      <td>2.50</td>\n",
       "      <td>0</td>\n",
       "      <td>C=CC(=O)N(c1ccccc1)c1ccc(Br)cc1</td>\n",
       "      <td>MRECISVHVGQAGVQMGNACWELYCLEHGIQPDGQMPSDKTIGGGD...</td>\n",
       "    </tr>\n",
       "    <tr>\n",
       "      <th>2</th>\n",
       "      <td>P68366</td>\n",
       "      <td>P68366_C347</td>\n",
       "      <td>347</td>\n",
       "      <td>yes</td>\n",
       "      <td>yes</td>\n",
       "      <td>NaN</td>\n",
       "      <td>NaN</td>\n",
       "      <td>yes</td>\n",
       "      <td>NaN</td>\n",
       "      <td>NaN</td>\n",
       "      <td>ACRYL_1</td>\n",
       "      <td>3.10</td>\n",
       "      <td>0</td>\n",
       "      <td>C=CC(=O)N(c1ccccc1)c1ccc(Br)cc1</td>\n",
       "      <td>MRECISVHVGQAGVQMGNACWELYCLEHGIQPDGQMPSDKTIGGGD...</td>\n",
       "    </tr>\n",
       "    <tr>\n",
       "      <th>3</th>\n",
       "      <td>Q71U36</td>\n",
       "      <td>Q71U36_C347</td>\n",
       "      <td>347</td>\n",
       "      <td>yes</td>\n",
       "      <td>yes</td>\n",
       "      <td>yes</td>\n",
       "      <td>NaN</td>\n",
       "      <td>NaN</td>\n",
       "      <td>NaN</td>\n",
       "      <td>NaN</td>\n",
       "      <td>ACRYL_1</td>\n",
       "      <td>2.33</td>\n",
       "      <td>0</td>\n",
       "      <td>C=CC(=O)N(c1ccccc1)c1ccc(Br)cc1</td>\n",
       "      <td>MRECISIHVGQAGVQIGNACWELYCLEHGIQPDGQMPSDKTIGGGD...</td>\n",
       "    </tr>\n",
       "    <tr>\n",
       "      <th>4</th>\n",
       "      <td>Q71U36</td>\n",
       "      <td>Q71U36_C376</td>\n",
       "      <td>376</td>\n",
       "      <td>yes</td>\n",
       "      <td>yes</td>\n",
       "      <td>NaN</td>\n",
       "      <td>NaN</td>\n",
       "      <td>NaN</td>\n",
       "      <td>NaN</td>\n",
       "      <td>NaN</td>\n",
       "      <td>ACRYL_1</td>\n",
       "      <td>4.56</td>\n",
       "      <td>1</td>\n",
       "      <td>C=CC(=O)N(c1ccccc1)c1ccc(Br)cc1</td>\n",
       "      <td>MRECISIHVGQAGVQIGNACWELYCLEHGIQPDGQMPSDKTIGGGD...</td>\n",
       "    </tr>\n",
       "  </tbody>\n",
       "</table>\n",
       "</div>"
      ],
      "text/plain": [
       "    Entry   cysteineid  resid ligandable backus_cravatt_ligandable  \\\n",
       "0  P23396   P23396_C97     97        yes                       yes   \n",
       "1  P68366  P68366_C295    295        yes                       yes   \n",
       "2  P68366  P68366_C347    347        yes                       yes   \n",
       "3  Q71U36  Q71U36_C347    347        yes                       yes   \n",
       "4  Q71U36  Q71U36_C376    376        yes                       yes   \n",
       "\n",
       "  cao_backus_ligandable kuljanin_gygi_ligandable  \\\n",
       "0                   yes                      NaN   \n",
       "1                   NaN                      NaN   \n",
       "2                   NaN                      NaN   \n",
       "3                   yes                      NaN   \n",
       "4                   NaN                      NaN   \n",
       "\n",
       "  vinogradova_cravatt_ligandable yan_backus_ligandable yang_wang_ligandable  \\\n",
       "0                            yes                   NaN                  NaN   \n",
       "1                            NaN                   NaN                  NaN   \n",
       "2                            yes                   NaN                  NaN   \n",
       "3                            NaN                   NaN                  NaN   \n",
       "4                            NaN                   NaN                  NaN   \n",
       "\n",
       "  Compound  Ratio  Activity                           SMILES  \\\n",
       "0  ACRYL_1   2.73         0  C=CC(=O)N(c1ccccc1)c1ccc(Br)cc1   \n",
       "1  ACRYL_1   2.50         0  C=CC(=O)N(c1ccccc1)c1ccc(Br)cc1   \n",
       "2  ACRYL_1   3.10         0  C=CC(=O)N(c1ccccc1)c1ccc(Br)cc1   \n",
       "3  ACRYL_1   2.33         0  C=CC(=O)N(c1ccccc1)c1ccc(Br)cc1   \n",
       "4  ACRYL_1   4.56         1  C=CC(=O)N(c1ccccc1)c1ccc(Br)cc1   \n",
       "\n",
       "                                            Sequence  \n",
       "0  MAVQISKKRKFVADGIFKAELNEFLTRELAEDGYSGVEVRVTPTRT...  \n",
       "1  MRECISVHVGQAGVQMGNACWELYCLEHGIQPDGQMPSDKTIGGGD...  \n",
       "2  MRECISVHVGQAGVQMGNACWELYCLEHGIQPDGQMPSDKTIGGGD...  \n",
       "3  MRECISIHVGQAGVQIGNACWELYCLEHGIQPDGQMPSDKTIGGGD...  \n",
       "4  MRECISIHVGQAGVQIGNACWELYCLEHGIQPDGQMPSDKTIGGGD...  "
      ]
     },
     "execution_count": 4,
     "metadata": {},
     "output_type": "execute_result"
    }
   ],
   "source": [
    "df.head(5)"
   ]
  },
  {
   "cell_type": "code",
   "execution_count": null,
   "id": "657de571",
   "metadata": {},
   "outputs": [
    {
     "data": {
      "image/png": "[encoded data removed]",
      "text/plain": [
       "<Figure size 640x480 with 1 Axes>"
      ]
     },
     "metadata": {},
     "output_type": "display_data"
    }
   ],
   "source": [
    "import pandas as pd\n",
    "import matplotlib.pyplot as plt\n",
    "\n",
    "df = pd.read_csv(\"./datasets/cysdb_complete_with_clusters.csv\")\n",
    "\n"
   ]
  },
  {
   "cell_type": "code",
   "execution_count": null,
   "id": "c6016f75",
   "metadata": {},
   "outputs": [
    {
     "data": {
      "image/png": "[encoded data removed]",
      "text/plain": [
       "<Figure size 1000x600 with 1 Axes>"
      ]
     },
     "metadata": {},
     "output_type": "display_data"
    }
   ],
   "source": [
    "import pandas as pd\n",
    "import matplotlib.pyplot as plt\n",
    "import seaborn as sns\n",
    "\n",
    "# # Load your data\n",
    "# df = pd.read_csv(\"./datasets/cysdb_complete_with_clusters.csv\")\n",
    "df['Ratio'] = df['Ratio'].astype(float)  # Ensure Ratio is float\n",
    "\n",
    "sns.set(style=\"whitegrid\", palette=\"muted\", font_scale=1.2)\n",
    "\n",
    "plt.figure(figsize=(10, 6))\n",
    "# Use a log scale on the x-axis to handle skewed data\n",
    "ax = sns.histplot(df['Ratio'], bins=100, kde=True, color=\"#4C72B0\", edgecolor=\"white\", linewidth=1.5, stat=\"density\", log_scale=True)\n",
    "\n",
    "# Add titles and labels\n",
    "plt.title(\"Log-Scaled Distribution of Ratio Values\", fontsize=18, fontweight=\"bold\")\n",
    "plt.xlabel(\"Ratio (Log Scale)\", fontsize=14)\n",
    "plt.ylabel(\"Relative Frequency\", fontsize=14)\n",
    "\n",
    "# Annotate mean and median\n",
    "mean_val = df['Ratio'].mean()\n",
    "median_val = df['Ratio'].median()\n",
    "plt.axvline(mean_val, color='red', linestyle='--', linewidth=2, label=f\"Mean: {mean_val:.2f}\")\n",
    "plt.axvline(median_val, color='green', linestyle='-.', linewidth=2, label=f\"Median: {median_val:.2f}\")\n",
    "plt.legend(fontsize=12)\n",
    "\n",
    "plt.tight_layout()\n",
    "plt.show()"
   ]
  },
  {
   "cell_type": "code",
   "execution_count": 1,
   "id": "0a4f0651",
   "metadata": {},
   "outputs": [
    {
     "name": "stderr",
     "output_type": "stream",
     "text": [
      "/tmp/ipykernel_1587894/3938083798.py:3: DtypeWarning: Columns (6,8,9,10,11,12,13,14,15) have mixed types. Specify dtype option on import or set low_memory=False.\n",
      "  train = pd.read_csv(\"./datasets/train.csv\")\n"
     ]
    },
    {
     "data": {
      "application/vnd.microsoft.datawrangler.viewer.v0+json": {
       "columns": [
        {
         "name": "index",
         "rawType": "object",
         "type": "string"
        },
        {
         "name": "Ratio",
         "rawType": "float64",
         "type": "float"
        },
        {
         "name": "Activity",
         "rawType": "float64",
         "type": "float"
        },
        {
         "name": "faiss_cluster",
         "rawType": "float64",
         "type": "float"
        },
        {
         "name": "resid",
         "rawType": "float64",
         "type": "float"
        }
       ],
       "ref": "b4b0df25-a90b-421c-8490-88bb30a9376a",
       "rows": [
        [
         "count",
         "99022.0",
         "99022.0",
         "99022.0",
         "49511.0"
        ],
        [
         "mean",
         "4.006799876582466",
         "0.5",
         "172.9615136030377",
         "429.4510512815334"
        ],
        [
         "std",
         "9.792365760626796",
         "0.500002524710605",
         "67.00360529904721",
         "557.034272621558"
        ],
        [
         "min",
         "0.001772886",
         "0.0",
         "0.0",
         "2.0"
        ],
        [
         "25%",
         "1.0064324999999998",
         "0.0",
         "141.0",
         "113.0"
        ],
        [
         "50%",
         "3.00552279",
         "0.5",
         "200.0",
         "258.0"
        ],
        [
         "75%",
         "4.56",
         "1.0",
         "200.0",
         "543.0"
        ],
        [
         "max",
         "2450.0",
         "1.0",
         "299.0",
         "8703.0"
        ]
       ],
       "shape": {
        "columns": 4,
        "rows": 8
       }
      },
      "text/html": [
       "<div>\n",
       "<style scoped>\n",
       "    .dataframe tbody tr th:only-of-type {\n",
       "        vertical-align: middle;\n",
       "    }\n",
       "\n",
       "    .dataframe tbody tr th {\n",
       "        vertical-align: top;\n",
       "    }\n",
       "\n",
       "    .dataframe thead th {\n",
       "        text-align: right;\n",
       "    }\n",
       "</style>\n",
       "<table border=\"1\" class=\"dataframe\">\n",
       "  <thead>\n",
       "    <tr style=\"text-align: right;\">\n",
       "      <th></th>\n",
       "      <th>Ratio</th>\n",
       "      <th>Activity</th>\n",
       "      <th>faiss_cluster</th>\n",
       "      <th>resid</th>\n",
       "    </tr>\n",
       "  </thead>\n",
       "  <tbody>\n",
       "    <tr>\n",
       "      <th>count</th>\n",
       "      <td>99022.000000</td>\n",
       "      <td>99022.000000</td>\n",
       "      <td>99022.000000</td>\n",
       "      <td>49511.000000</td>\n",
       "    </tr>\n",
       "    <tr>\n",
       "      <th>mean</th>\n",
       "      <td>4.006800</td>\n",
       "      <td>0.500000</td>\n",
       "      <td>172.961514</td>\n",
       "      <td>429.451051</td>\n",
       "    </tr>\n",
       "    <tr>\n",
       "      <th>std</th>\n",
       "      <td>9.792366</td>\n",
       "      <td>0.500003</td>\n",
       "      <td>67.003605</td>\n",
       "      <td>557.034273</td>\n",
       "    </tr>\n",
       "    <tr>\n",
       "      <th>min</th>\n",
       "      <td>0.001773</td>\n",
       "      <td>0.000000</td>\n",
       "      <td>0.000000</td>\n",
       "      <td>2.000000</td>\n",
       "    </tr>\n",
       "    <tr>\n",
       "      <th>25%</th>\n",
       "      <td>1.006432</td>\n",
       "      <td>0.000000</td>\n",
       "      <td>141.000000</td>\n",
       "      <td>113.000000</td>\n",
       "    </tr>\n",
       "    <tr>\n",
       "      <th>50%</th>\n",
       "      <td>3.005523</td>\n",
       "      <td>0.500000</td>\n",
       "      <td>200.000000</td>\n",
       "      <td>258.000000</td>\n",
       "    </tr>\n",
       "    <tr>\n",
       "      <th>75%</th>\n",
       "      <td>4.560000</td>\n",
       "      <td>1.000000</td>\n",
       "      <td>200.000000</td>\n",
       "      <td>543.000000</td>\n",
       "    </tr>\n",
       "    <tr>\n",
       "      <th>max</th>\n",
       "      <td>2450.000000</td>\n",
       "      <td>1.000000</td>\n",
       "      <td>299.000000</td>\n",
       "      <td>8703.000000</td>\n",
       "    </tr>\n",
       "  </tbody>\n",
       "</table>\n",
       "</div>"
      ],
      "text/plain": [
       "              Ratio      Activity  faiss_cluster         resid\n",
       "count  99022.000000  99022.000000   99022.000000  49511.000000\n",
       "mean       4.006800      0.500000     172.961514    429.451051\n",
       "std        9.792366      0.500003      67.003605    557.034273\n",
       "min        0.001773      0.000000       0.000000      2.000000\n",
       "25%        1.006432      0.000000     141.000000    113.000000\n",
       "50%        3.005523      0.500000     200.000000    258.000000\n",
       "75%        4.560000      1.000000     200.000000    543.000000\n",
       "max     2450.000000      1.000000     299.000000   8703.000000"
      ]
     },
     "execution_count": 1,
     "metadata": {},
     "output_type": "execute_result"
    }
   ],
   "source": [
    "import pandas as pd\n",
    "\n",
    "train = pd.read_csv(\"./datasets/train.csv\")\n",
    "train.describe()"
   ]
  },
  {
   "cell_type": "code",
   "execution_count": 1,
   "id": "7db04689",
   "metadata": {},
   "outputs": [
    {
     "data": {
      "text/html": [
       "<div><style>\n",
       ".dataframe > thead > tr,\n",
       ".dataframe > tbody > tr {\n",
       "  text-align: right;\n",
       "  white-space: pre-wrap;\n",
       "}\n",
       "</style>\n",
       "<small>shape: (2_727_710, 48)</small><table border=\"1\" class=\"dataframe\"><thead><tr><th>Molecule ChEMBL ID</th><th>Molecule Name</th><th>Molecule Max Phase</th><th>Molecular Weight</th><th>#RO5 Violations</th><th>AlogP</th><th>Compound Key</th><th>Smiles</th><th>Standard Type</th><th>Standard Relation</th><th>Standard Value</th><th>Standard Units</th><th>pChEMBL Value</th><th>Data Validity Comment</th><th>Comment</th><th>Uo Units</th><th>Ligand Efficiency BEI</th><th>Ligand Efficiency LE</th><th>Ligand Efficiency LLE</th><th>Ligand Efficiency SEI</th><th>Potential Duplicate</th><th>Assay ChEMBL ID</th><th>Assay Description</th><th>Assay Type</th><th>BAO Format ID</th><th>BAO Label</th><th>Assay Organism</th><th>Assay Tissue ChEMBL ID</th><th>Assay Tissue Name</th><th>Assay Cell Type</th><th>Assay Subcellular Fraction</th><th>Assay Parameters</th><th>Assay Variant Accession</th><th>Assay Variant Mutation</th><th>Target ChEMBL ID</th><th>Target Name</th><th>Target Organism</th><th>Target Type</th><th>Document ChEMBL ID</th><th>Source ID</th><th>Source Description</th><th>Document Journal</th><th>Document Year</th><th>Cell ChEMBL ID</th><th>Properties</th><th>Action Type</th><th>Standard Text Value</th><th>Value</th></tr><tr><td>str</td><td>str</td><td>str</td><td>str</td><td>str</td><td>str</td><td>str</td><td>str</td><td>str</td><td>str</td><td>f64</td><td>str</td><td>f64</td><td>str</td><td>str</td><td>str</td><td>str</td><td>str</td><td>str</td><td>str</td><td>i64</td><td>str</td><td>str</td><td>str</td><td>str</td><td>str</td><td>str</td><td>str</td><td>str</td><td>str</td><td>str</td><td>str</td><td>str</td><td>str</td><td>str</td><td>str</td><td>str</td><td>str</td><td>str</td><td>i64</td><td>str</td><td>str</td><td>str</td><td>str</td><td>str</td><td>str</td><td>str</td><td>f64</td></tr></thead><tbody><tr><td>&quot;CHEMBL102217&quot;</td><td>&quot;&quot;</td><td>&quot;None&quot;</td><td>&quot;569.28&quot;</td><td>&quot;1&quot;</td><td>&quot;4.95&quot;</td><td>&quot;6&quot;</td><td>&quot;Cn1c(=O)c(-c2c(Cl)cccc2Cl)cc2c…</td><td>&quot;IC50&quot;</td><td>&quot;&#x27;=&#x27;&quot;</td><td>750.0</td><td>&quot;nM&quot;</td><td>6.12</td><td>&quot;&quot;</td><td>&quot;&quot;</td><td>&quot;UO_0000065&quot;</td><td>&quot;10.76&quot;</td><td>&quot;0.23&quot;</td><td>&quot;1.17&quot;</td><td>&quot;3.96&quot;</td><td>0</td><td>&quot;CHEMBL806436&quot;</td><td>&quot;Inhibition of Src protein tyro…</td><td>&quot;B&quot;</td><td>&quot;BAO_0000357&quot;</td><td>&quot;single protein format&quot;</td><td>&quot;Homo sapiens&quot;</td><td>&quot;None&quot;</td><td>&quot;None&quot;</td><td>&quot;None&quot;</td><td>&quot;None&quot;</td><td>&quot;&quot;</td><td>&quot;&quot;</td><td>&quot;&quot;</td><td>&quot;CHEMBL267&quot;</td><td>&quot;Tyrosine-protein kinase SRC&quot;</td><td>&quot;Homo sapiens&quot;</td><td>&quot;SINGLE PROTEIN&quot;</td><td>&quot;CHEMBL1136210&quot;</td><td>1</td><td>&quot;Scientific Literature&quot;</td><td>&quot;Bioorg Med Chem Lett&quot;</td><td>&quot;2003&quot;</td><td>&quot;None&quot;</td><td>&quot;&quot;</td><td>&quot;&quot;</td><td>&quot;&quot;</td><td>0.75</td></tr><tr><td>&quot;CHEMBL345905&quot;</td><td>&quot;&quot;</td><td>&quot;None&quot;</td><td>&quot;243.35&quot;</td><td>&quot;0&quot;</td><td>&quot;2.77&quot;</td><td>&quot;1B&quot;</td><td>&quot;CN1CCC(C[C@H]2Cc3ccccc3C2=O)CC…</td><td>&quot;IC50&quot;</td><td>&quot;&#x27;=&#x27;&quot;</td><td>7.7</td><td>&quot;nM&quot;</td><td>8.11</td><td>&quot;&quot;</td><td>&quot;&quot;</td><td>&quot;UO_0000065&quot;</td><td>&quot;33.34&quot;</td><td>&quot;0.62&quot;</td><td>&quot;5.34&quot;</td><td>&quot;39.95&quot;</td><td>0</td><td>&quot;CHEMBL643386&quot;</td><td>&quot;Inhibition of acetylcholineste…</td><td>&quot;B&quot;</td><td>&quot;BAO_0000357&quot;</td><td>&quot;single protein format&quot;</td><td>&quot;None&quot;</td><td>&quot;None&quot;</td><td>&quot;None&quot;</td><td>&quot;None&quot;</td><td>&quot;None&quot;</td><td>&quot;&quot;</td><td>&quot;&quot;</td><td>&quot;&quot;</td><td>&quot;CHEMBL220&quot;</td><td>&quot;Acetylcholinesterase&quot;</td><td>&quot;Homo sapiens&quot;</td><td>&quot;SINGLE PROTEIN&quot;</td><td>&quot;CHEMBL1126158&quot;</td><td>1</td><td>&quot;Scientific Literature&quot;</td><td>&quot;J Med Chem&quot;</td><td>&quot;1992&quot;</td><td>&quot;None&quot;</td><td>&quot;&quot;</td><td>&quot;&quot;</td><td>&quot;&quot;</td><td>7.7</td></tr><tr><td>&quot;CHEMBL1547145&quot;</td><td>&quot;&quot;</td><td>&quot;None&quot;</td><td>&quot;405.57&quot;</td><td>&quot;1&quot;</td><td>&quot;6.81&quot;</td><td>&quot;SID17432101&quot;</td><td>&quot;CCCCc1ccc(NC(S)=Nc2ccc(Nc3ccc(…</td><td>&quot;Potency&quot;</td><td>&quot;&#x27;=&#x27;&quot;</td><td>7079.5</td><td>&quot;nM&quot;</td><td>5.15</td><td>&quot;&quot;</td><td>&quot;Active&quot;</td><td>&quot;UO_0000065&quot;</td><td>&quot;&quot;</td><td>&quot;&quot;</td><td>&quot;&quot;</td><td>&quot;&quot;</td><td>0</td><td>&quot;CHEMBL1614458&quot;</td><td>&quot;PUBCHEM_BIOASSAY: qHTS Assay f…</td><td>&quot;F&quot;</td><td>&quot;BAO_0000019&quot;</td><td>&quot;assay format&quot;</td><td>&quot;Homo sapiens&quot;</td><td>&quot;None&quot;</td><td>&quot;None&quot;</td><td>&quot;None&quot;</td><td>&quot;None&quot;</td><td>&quot;&quot;</td><td>&quot;&quot;</td><td>&quot;&quot;</td><td>&quot;CHEMBL3577&quot;</td><td>&quot;Aldehyde dehydrogenase 1A1&quot;</td><td>&quot;Homo sapiens&quot;</td><td>&quot;SINGLE PROTEIN&quot;</td><td>&quot;CHEMBL1201862&quot;</td><td>7</td><td>&quot;PubChem BioAssays&quot;</td><td>&quot;&quot;</td><td>&quot;&quot;</td><td>&quot;None&quot;</td><td>&quot;&quot;</td><td>&quot;&quot;</td><td>&quot;&quot;</td><td>7.0795</td></tr><tr><td>&quot;CHEMBL1585798&quot;</td><td>&quot;&quot;</td><td>&quot;None&quot;</td><td>&quot;416.54&quot;</td><td>&quot;0&quot;</td><td>&quot;4.49&quot;</td><td>&quot;SID14724961&quot;</td><td>&quot;CC(C)(C)C(=O)Nc1ccc(S(=O)(=O)c…</td><td>&quot;Potency&quot;</td><td>&quot;&#x27;=&#x27;&quot;</td><td>44668.4</td><td>&quot;nM&quot;</td><td>4.35</td><td>&quot;&quot;</td><td>&quot;Not Active&quot;</td><td>&quot;UO_0000065&quot;</td><td>&quot;&quot;</td><td>&quot;&quot;</td><td>&quot;&quot;</td><td>&quot;&quot;</td><td>0</td><td>&quot;CHEMBL1614458&quot;</td><td>&quot;PUBCHEM_BIOASSAY: qHTS Assay f…</td><td>&quot;F&quot;</td><td>&quot;BAO_0000019&quot;</td><td>&quot;assay format&quot;</td><td>&quot;Homo sapiens&quot;</td><td>&quot;None&quot;</td><td>&quot;None&quot;</td><td>&quot;None&quot;</td><td>&quot;None&quot;</td><td>&quot;&quot;</td><td>&quot;&quot;</td><td>&quot;&quot;</td><td>&quot;CHEMBL3577&quot;</td><td>&quot;Aldehyde dehydrogenase 1A1&quot;</td><td>&quot;Homo sapiens&quot;</td><td>&quot;SINGLE PROTEIN&quot;</td><td>&quot;CHEMBL1201862&quot;</td><td>7</td><td>&quot;PubChem BioAssays&quot;</td><td>&quot;&quot;</td><td>&quot;&quot;</td><td>&quot;None&quot;</td><td>&quot;&quot;</td><td>&quot;&quot;</td><td>&quot;&quot;</td><td>44.6684</td></tr><tr><td>&quot;CHEMBL1429303&quot;</td><td>&quot;&quot;</td><td>&quot;None&quot;</td><td>&quot;307.42&quot;</td><td>&quot;0&quot;</td><td>&quot;4.88&quot;</td><td>&quot;SID24828124&quot;</td><td>&quot;Cc1ccc(NC(S)=Nc2cccc3cnccc23)c…</td><td>&quot;Potency&quot;</td><td>&quot;&#x27;=&#x27;&quot;</td><td>2511.9</td><td>&quot;nM&quot;</td><td>5.6</td><td>&quot;&quot;</td><td>&quot;Active&quot;</td><td>&quot;UO_0000065&quot;</td><td>&quot;&quot;</td><td>&quot;&quot;</td><td>&quot;&quot;</td><td>&quot;&quot;</td><td>0</td><td>&quot;CHEMBL1614458&quot;</td><td>&quot;PUBCHEM_BIOASSAY: qHTS Assay f…</td><td>&quot;F&quot;</td><td>&quot;BAO_0000019&quot;</td><td>&quot;assay format&quot;</td><td>&quot;Homo sapiens&quot;</td><td>&quot;None&quot;</td><td>&quot;None&quot;</td><td>&quot;None&quot;</td><td>&quot;None&quot;</td><td>&quot;&quot;</td><td>&quot;&quot;</td><td>&quot;&quot;</td><td>&quot;CHEMBL3577&quot;</td><td>&quot;Aldehyde dehydrogenase 1A1&quot;</td><td>&quot;Homo sapiens&quot;</td><td>&quot;SINGLE PROTEIN&quot;</td><td>&quot;CHEMBL1201862&quot;</td><td>7</td><td>&quot;PubChem BioAssays&quot;</td><td>&quot;&quot;</td><td>&quot;&quot;</td><td>&quot;None&quot;</td><td>&quot;&quot;</td><td>&quot;&quot;</td><td>&quot;&quot;</td><td>2.5119</td></tr><tr><td>&hellip;</td><td>&hellip;</td><td>&hellip;</td><td>&hellip;</td><td>&hellip;</td><td>&hellip;</td><td>&hellip;</td><td>&hellip;</td><td>&hellip;</td><td>&hellip;</td><td>&hellip;</td><td>&hellip;</td><td>&hellip;</td><td>&hellip;</td><td>&hellip;</td><td>&hellip;</td><td>&hellip;</td><td>&hellip;</td><td>&hellip;</td><td>&hellip;</td><td>&hellip;</td><td>&hellip;</td><td>&hellip;</td><td>&hellip;</td><td>&hellip;</td><td>&hellip;</td><td>&hellip;</td><td>&hellip;</td><td>&hellip;</td><td>&hellip;</td><td>&hellip;</td><td>&hellip;</td><td>&hellip;</td><td>&hellip;</td><td>&hellip;</td><td>&hellip;</td><td>&hellip;</td><td>&hellip;</td><td>&hellip;</td><td>&hellip;</td><td>&hellip;</td><td>&hellip;</td><td>&hellip;</td><td>&hellip;</td><td>&hellip;</td><td>&hellip;</td><td>&hellip;</td><td>&hellip;</td></tr><tr><td>&quot;CHEMBL98&quot;</td><td>&quot;VORINOSTAT&quot;</td><td>&quot;4.0&quot;</td><td>&quot;264.32&quot;</td><td>&quot;0&quot;</td><td>&quot;2.47&quot;</td><td>&quot;Vorinostat&quot;</td><td>&quot;O=C(CCCCCCC(=O)Nc1ccccc1)NO&quot;</td><td>&quot;IC50&quot;</td><td>&quot;&#x27;=&#x27;&quot;</td><td>102.8</td><td>&quot;nM&quot;</td><td>6.99</td><td>&quot;&quot;</td><td>&quot;&quot;</td><td>&quot;UO_0000065&quot;</td><td>&quot;26.44&quot;</td><td>&quot;0.50&quot;</td><td>&quot;4.52&quot;</td><td>&quot;8.91&quot;</td><td>1</td><td>&quot;CHEMBL5393274&quot;</td><td>&quot;Inhibition of C-terminal 6His …</td><td>&quot;B&quot;</td><td>&quot;BAO_0000357&quot;</td><td>&quot;single protein format&quot;</td><td>&quot;Homo sapiens&quot;</td><td>&quot;None&quot;</td><td>&quot;None&quot;</td><td>&quot;None&quot;</td><td>&quot;None&quot;</td><td>&quot;&quot;</td><td>&quot;&quot;</td><td>&quot;&quot;</td><td>&quot;CHEMBL325&quot;</td><td>&quot;Histone deacetylase 1&quot;</td><td>&quot;Homo sapiens&quot;</td><td>&quot;SINGLE PROTEIN&quot;</td><td>&quot;CHEMBL5390315&quot;</td><td>1</td><td>&quot;Scientific Literature&quot;</td><td>&quot;ACS Med Chem Lett&quot;</td><td>&quot;2023&quot;</td><td>&quot;None&quot;</td><td>&quot;TIME = 2.0 hr&quot;</td><td>&quot;INHIBITOR&quot;</td><td>&quot;&quot;</td><td>102.8</td></tr><tr><td>&quot;CHEMBL428690&quot;</td><td>&quot;ALVOCIDIB&quot;</td><td>&quot;3.0&quot;</td><td>&quot;401.85&quot;</td><td>&quot;0&quot;</td><td>&quot;3.30&quot;</td><td>&quot;10&quot;</td><td>&quot;CN1CC[C@H](c2c(O)cc(O)c3c(=O)c…</td><td>&quot;IC50&quot;</td><td>&quot;&#x27;=&#x27;&quot;</td><td>170.0</td><td>&quot;nM&quot;</td><td>6.77</td><td>&quot;&quot;</td><td>&quot;&quot;</td><td>&quot;UO_0000065&quot;</td><td>&quot;16.85&quot;</td><td>&quot;0.33&quot;</td><td>&quot;3.47&quot;</td><td>&quot;7.19&quot;</td><td>1</td><td>&quot;CHEMBL5343376&quot;</td><td>&quot;Inhibition of CDK5 (unknown or…</td><td>&quot;B&quot;</td><td>&quot;BAO_0000357&quot;</td><td>&quot;single protein format&quot;</td><td>&quot;Homo sapiens&quot;</td><td>&quot;None&quot;</td><td>&quot;None&quot;</td><td>&quot;None&quot;</td><td>&quot;None&quot;</td><td>&quot;&quot;</td><td>&quot;&quot;</td><td>&quot;&quot;</td><td>&quot;CHEMBL4036&quot;</td><td>&quot;Cyclin-dependent kinase 5&quot;</td><td>&quot;Homo sapiens&quot;</td><td>&quot;SINGLE PROTEIN&quot;</td><td>&quot;CHEMBL5338803&quot;</td><td>1</td><td>&quot;Scientific Literature&quot;</td><td>&quot;J Med Chem&quot;</td><td>&quot;2023&quot;</td><td>&quot;None&quot;</td><td>&quot;&quot;</td><td>&quot;INHIBITOR&quot;</td><td>&quot;&quot;</td><td>170.0</td></tr><tr><td>&quot;CHEMBL2133806&quot;</td><td>&quot;JNJ-38877605&quot;</td><td>&quot;1.0&quot;</td><td>&quot;377.36&quot;</td><td>&quot;0&quot;</td><td>&quot;3.21&quot;</td><td>&quot;JNJ-38877605&quot;</td><td>&quot;Cn1cc(-c2ccc3nnc(C(F)(F)c4ccc5…</td><td>&quot;IC50&quot;</td><td>&quot;&#x27;=&#x27;&quot;</td><td>4.0</td><td>&quot;nM&quot;</td><td>8.4</td><td>&quot;&quot;</td><td>&quot;&quot;</td><td>&quot;UO_0000065&quot;</td><td>&quot;22.25&quot;</td><td>&quot;0.41&quot;</td><td>&quot;5.19&quot;</td><td>&quot;11.38&quot;</td><td>1</td><td>&quot;CHEMBL5339368&quot;</td><td>&quot;Inhibition of c-Met (unknown o…</td><td>&quot;B&quot;</td><td>&quot;BAO_0000357&quot;</td><td>&quot;single protein format&quot;</td><td>&quot;Homo sapiens&quot;</td><td>&quot;None&quot;</td><td>&quot;None&quot;</td><td>&quot;None&quot;</td><td>&quot;None&quot;</td><td>&quot;&quot;</td><td>&quot;&quot;</td><td>&quot;&quot;</td><td>&quot;CHEMBL3717&quot;</td><td>&quot;Hepatocyte growth factor recep…</td><td>&quot;Homo sapiens&quot;</td><td>&quot;SINGLE PROTEIN&quot;</td><td>&quot;CHEMBL5338715&quot;</td><td>1</td><td>&quot;Scientific Literature&quot;</td><td>&quot;Eur J Med Chem&quot;</td><td>&quot;2022&quot;</td><td>&quot;None&quot;</td><td>&quot;&quot;</td><td>&quot;INHIBITOR&quot;</td><td>&quot;&quot;</td><td>4.0</td></tr><tr><td>&quot;CHEMBL1957266&quot;</td><td>&quot;&quot;</td><td>&quot;None&quot;</td><td>&quot;457.00&quot;</td><td>&quot;1&quot;</td><td>&quot;5.53&quot;</td><td>&quot;JQ1&quot;</td><td>&quot;Cc1sc2c(c1C)C(c1ccc(Cl)cc1)=N[…</td><td>&quot;Kd&quot;</td><td>&quot;&#x27;=&#x27;&quot;</td><td>35.0</td><td>&quot;nM&quot;</td><td>7.46</td><td>&quot;&quot;</td><td>&quot;&quot;</td><td>&quot;UO_0000065&quot;</td><td>&quot;16.31&quot;</td><td>&quot;0.33&quot;</td><td>&quot;1.93&quot;</td><td>&quot;10.75&quot;</td><td>0</td><td>&quot;CHEMBL5029983&quot;</td><td>&quot;Binding affinity to recombinan…</td><td>&quot;B&quot;</td><td>&quot;BAO_0000219&quot;</td><td>&quot;cell-based format&quot;</td><td>&quot;Homo sapiens&quot;</td><td>&quot;None&quot;</td><td>&quot;None&quot;</td><td>&quot;None&quot;</td><td>&quot;None&quot;</td><td>&quot;&quot;</td><td>&quot;&quot;</td><td>&quot;&quot;</td><td>&quot;CHEMBL1163125&quot;</td><td>&quot;Bromodomain-containing protein…</td><td>&quot;Homo sapiens&quot;</td><td>&quot;SINGLE PROTEIN&quot;</td><td>&quot;CHEMBL5029173&quot;</td><td>1</td><td>&quot;Scientific Literature&quot;</td><td>&quot;J Med Chem&quot;</td><td>&quot;2021&quot;</td><td>&quot;None&quot;</td><td>&quot;&quot;</td><td>&quot;INHIBITOR&quot;</td><td>&quot;&quot;</td><td>35.0</td></tr><tr><td>&quot;CHEMBL2392553&quot;</td><td>&quot;&quot;</td><td>&quot;None&quot;</td><td>&quot;543.62&quot;</td><td>&quot;1&quot;</td><td>&quot;3.41&quot;</td><td>&quot;Ro3280&quot;</td><td>&quot;COc1cc(C(=O)NC2CCN(C)CC2)ccc1N…</td><td>&quot;Kd&quot;</td><td>&quot;&#x27;=&#x27;&quot;</td><td>390.0</td><td>&quot;nM&quot;</td><td>6.41</td><td>&quot;&quot;</td><td>&quot;&quot;</td><td>&quot;UO_0000065&quot;</td><td>&quot;11.79&quot;</td><td>&quot;0.22&quot;</td><td>&quot;3.00&quot;</td><td>&quot;6.23&quot;</td><td>0</td><td>&quot;CHEMBL5029988&quot;</td><td>&quot;Binding affinity to recombinan…</td><td>&quot;B&quot;</td><td>&quot;BAO_0000219&quot;</td><td>&quot;cell-based format&quot;</td><td>&quot;Homo sapiens&quot;</td><td>&quot;None&quot;</td><td>&quot;None&quot;</td><td>&quot;None&quot;</td><td>&quot;None&quot;</td><td>&quot;&quot;</td><td>&quot;&quot;</td><td>&quot;&quot;</td><td>&quot;CHEMBL1795185&quot;</td><td>&quot;Bromodomain testis-specific pr…</td><td>&quot;Homo sapiens&quot;</td><td>&quot;SINGLE PROTEIN&quot;</td><td>&quot;CHEMBL5029173&quot;</td><td>1</td><td>&quot;Scientific Literature&quot;</td><td>&quot;J Med Chem&quot;</td><td>&quot;2021&quot;</td><td>&quot;None&quot;</td><td>&quot;&quot;</td><td>&quot;INHIBITOR&quot;</td><td>&quot;&quot;</td><td>390.0</td></tr></tbody></table></div>"
      ],
      "text/plain": [
       "shape: (2_727_710, 48)\n",
       "┌────────────┬───────────┬───────────┬───────────┬───┬───────────┬───────────┬───────────┬─────────┐\n",
       "│ Molecule   ┆ Molecule  ┆ Molecule  ┆ Molecular ┆ … ┆ Propertie ┆ Action    ┆ Standard  ┆ Value   │\n",
       "│ ChEMBL ID  ┆ Name      ┆ Max Phase ┆ Weight    ┆   ┆ s         ┆ Type      ┆ Text      ┆ ---     │\n",
       "│ ---        ┆ ---       ┆ ---       ┆ ---       ┆   ┆ ---       ┆ ---       ┆ Value     ┆ f64     │\n",
       "│ str        ┆ str       ┆ str       ┆ str       ┆   ┆ str       ┆ str       ┆ ---       ┆         │\n",
       "│            ┆           ┆           ┆           ┆   ┆           ┆           ┆ str       ┆         │\n",
       "╞════════════╪═══════════╪═══════════╪═══════════╪═══╪═══════════╪═══════════╪═══════════╪═════════╡\n",
       "│ CHEMBL1022 ┆           ┆ None      ┆ 569.28    ┆ … ┆           ┆           ┆           ┆ 0.75    │\n",
       "│ 17         ┆           ┆           ┆           ┆   ┆           ┆           ┆           ┆         │\n",
       "│ CHEMBL3459 ┆           ┆ None      ┆ 243.35    ┆ … ┆           ┆           ┆           ┆ 7.7     │\n",
       "│ 05         ┆           ┆           ┆           ┆   ┆           ┆           ┆           ┆         │\n",
       "│ CHEMBL1547 ┆           ┆ None      ┆ 405.57    ┆ … ┆           ┆           ┆           ┆ 7.0795  │\n",
       "│ 145        ┆           ┆           ┆           ┆   ┆           ┆           ┆           ┆         │\n",
       "│ CHEMBL1585 ┆           ┆ None      ┆ 416.54    ┆ … ┆           ┆           ┆           ┆ 44.6684 │\n",
       "│ 798        ┆           ┆           ┆           ┆   ┆           ┆           ┆           ┆         │\n",
       "│ CHEMBL1429 ┆           ┆ None      ┆ 307.42    ┆ … ┆           ┆           ┆           ┆ 2.5119  │\n",
       "│ 303        ┆           ┆           ┆           ┆   ┆           ┆           ┆           ┆         │\n",
       "│ …          ┆ …         ┆ …         ┆ …         ┆ … ┆ …         ┆ …         ┆ …         ┆ …       │\n",
       "│ CHEMBL98   ┆ VORINOSTA ┆ 4.0       ┆ 264.32    ┆ … ┆ TIME =    ┆ INHIBITOR ┆           ┆ 102.8   │\n",
       "│            ┆ T         ┆           ┆           ┆   ┆ 2.0 hr    ┆           ┆           ┆         │\n",
       "│ CHEMBL4286 ┆ ALVOCIDIB ┆ 3.0       ┆ 401.85    ┆ … ┆           ┆ INHIBITOR ┆           ┆ 170.0   │\n",
       "│ 90         ┆           ┆           ┆           ┆   ┆           ┆           ┆           ┆         │\n",
       "│ CHEMBL2133 ┆ JNJ-38877 ┆ 1.0       ┆ 377.36    ┆ … ┆           ┆ INHIBITOR ┆           ┆ 4.0     │\n",
       "│ 806        ┆ 605       ┆           ┆           ┆   ┆           ┆           ┆           ┆         │\n",
       "│ CHEMBL1957 ┆           ┆ None      ┆ 457.00    ┆ … ┆           ┆ INHIBITOR ┆           ┆ 35.0    │\n",
       "│ 266        ┆           ┆           ┆           ┆   ┆           ┆           ┆           ┆         │\n",
       "│ CHEMBL2392 ┆           ┆ None      ┆ 543.62    ┆ … ┆           ┆ INHIBITOR ┆           ┆ 390.0   │\n",
       "│ 553        ┆           ┆           ┆           ┆   ┆           ┆           ┆           ┆         │\n",
       "└────────────┴───────────┴───────────┴───────────┴───┴───────────┴───────────┴───────────┴─────────┘"
      ]
     },
     "execution_count": 1,
     "metadata": {},
     "output_type": "execute_result"
    }
   ],
   "source": [
    "import polars as pl\n",
    "\n",
    "df = pl.read_csv(\"chembl_combined.tsv\", separator=\"\\t\")\n",
    "df"
   ]
  }
 ],
 "metadata": {
  "kernelspec": {
   "display_name": "gen_ca",
   "language": "python",
   "name": "python3"
  },
  "language_info": {
   "codemirror_mode": {
    "name": "ipython",
    "version": 3
   },
   "file_extension": ".py",
   "mimetype": "text/x-python",
   "name": "python",
   "nbconvert_exporter": "python",
   "pygments_lexer": "ipython3",
   "version": "3.10.18"
  }
 },
 "nbformat": 4,
 "nbformat_minor": 5
}
